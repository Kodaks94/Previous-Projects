{
 "cells": [
  {
   "cell_type": "code",
   "execution_count": 6,
   "metadata": {
    "collapsed": true,
    "pycharm": {
     "name": "#%%\n"
    }
   },
   "outputs": [],
   "source": [
    "import numpy as np\n",
    "import pandas as pd\n",
    "import seaborn as sb\n",
    "import matplotlib as mpl\n",
    "\n",
    "memory_type = [\"CARU\", \"Full_LSTM\",\"Minimal_GRU\",\"Identity\",\"no_Memory\"]\n",
    "#memory_type = [memory_type[-1]]\n",
    "memory_write = [\"CARU\", \"Full LSTM\",\"Minimal GRU\",\"Identity\",\"no_Memory\"]\n",
    "#memory_write = [memory_write[-1]]\n",
    "memories = [60,80,40.0]\n",
    "environment =\"randomised\"\n",
    "is_first = True\n",
    "count = 0\n",
    "for memory in memory_type:\n",
    "    for trial in range(1,6):\n",
    "        tips2 = pd.read_csv(\"runs/Trial_\"+str(trial)+\"_\"+memory+\".csv\")\n",
    "        tips2['Trial'] = trial\n",
    "        tips2['Memory Modification']= memory_write[memory_type.index(memory)]\n",
    "        tips2 = tips2.rename(columns={\"BPTT\" + \" - eval/mean_reward\": \"Reward\"})\n",
    "        tips2[\"Iteration\"] = tips2.Step * 1\n",
    "        df1 = tips2[[\"Trial\", 'Memory Modification', \"Iteration\", \"Reward\"]]\n",
    "        #df1[\"Reward\"] = df1[\"Reward\"].rolling(7).mean()\n",
    "        if not is_first:\n",
    "            df = df.append(df1)\n",
    "        else:\n",
    "            df = df1\n",
    "            is_first = False\n",
    "\n"
   ]
  },
  {
   "cell_type": "code",
   "execution_count": 7,
   "outputs": [
    {
     "name": "stdout",
     "output_type": "stream",
     "text": [
      "     Trial Memory Modification  Iteration     Reward\n",
      "0        1                CARU        100  11.383535\n",
      "1        1                CARU        201  11.394950\n",
      "2        1                CARU        302  11.395774\n",
      "3        1                CARU        403  11.382390\n",
      "4        1                CARU        504  11.390436\n",
      "..     ...                 ...        ...        ...\n",
      "994      5           no_Memory     100494  10.967396\n",
      "995      5           no_Memory     100595  10.977808\n",
      "996      5           no_Memory     100696  10.986515\n",
      "997      5           no_Memory     100797  10.980726\n",
      "998      5           no_Memory     100898  10.992641\n",
      "\n",
      "[24811 rows x 4 columns]\n"
     ]
    }
   ],
   "source": [
    "mpl.use('Agg')\n",
    "sb.set_style(\"whitegrid\")\n",
    "print(df)\n",
    "linestyle_tuple = [\n",
    "     ('loosely dotted',        (0, (1, 10))),\n",
    "     ('dotted',                (0, (1, 1))),\n",
    "     ('densely dotted',        (0, (1, 1))),\n",
    "\n",
    "     ('loosely dashed',        (0, (5, 10))),\n",
    "     ('dashed',                (0, (5, 5))),\n",
    "     ('densely dashed',        (0, (5, 1))),\n",
    "\n",
    "     ('loosely dashdotted',    (0, (3, 10, 1, 10))),\n",
    "     ('dashdotted',            (0, (3, 5, 1, 5))),\n",
    "     ('densely dashdotted',    (0, (3, 1, 1, 1))),\n",
    "\n",
    "     ('dashdotdotted',         (0, (3, 5, 1, 5, 1, 5))),\n",
    "     ('loosely dashdotdotted', (0, (3, 10, 1, 10, 1, 10))),\n",
    "     ('densely dashdotdotted', (0, (3, 1, 1, 1, 1, 1)))]\n",
    "\n",
    "\n",
    "plt = sb.lineplot(data=df, x=\"Iteration\", y=\"Reward\", hue='Memory Modification',\n",
    "                   hue_order=memory_write,style='Memory Modification')  # , ci=None)\n",
    "fig = plt.get_figure()\n",
    "ax = mpl.pyplot.gca()\n",
    "fig.suptitle(\"Results for \"+environment +\" food-pile location\", fontsize=12, y=0.93)\n",
    "plt.set(xlabel='Iterations ($\\\\times 10^3$)', ylabel='Validation Reward')\n",
    "xlabels = ['{:,.0f}'.format(x) + '' for x in plt.get_xticks() / 1000]\n",
    "plt.set_xticklabels(xlabels)\n",
    "fig.savefig(environment+\".pdf\")\n",
    "\n",
    "fig.clf()\n"
   ],
   "metadata": {
    "collapsed": false,
    "pycharm": {
     "name": "#%%\n"
    }
   }
  },
  {
   "cell_type": "code",
   "execution_count": 35,
   "outputs": [
    {
     "name": "stdout",
     "output_type": "stream",
     "text": [
      "[19.56298942565918, 23.887913131713866, 22.74962463378906, 17.357750511169435, 10.76400343577067]\n"
     ]
    }
   ],
   "source": [
    "df2 = df\n",
    "\n",
    "x  = df2[df[\"Iteration\"] == 100898]\n",
    "\n",
    "y = [x[x[\"Memory Modification\"] == m][\"Reward\"].mean(axis=0) for m in memory_write]\n",
    "\n",
    "print(y)\n",
    "\n"
   ],
   "metadata": {
    "collapsed": false,
    "pycharm": {
     "name": "#%%\n"
    }
   }
  },
  {
   "cell_type": "code",
   "execution_count": null,
   "outputs": [],
   "source": [],
   "metadata": {
    "collapsed": false,
    "pycharm": {
     "name": "#%%\n"
    }
   }
  }
 ],
 "metadata": {
  "kernelspec": {
   "display_name": "Python 3",
   "language": "python",
   "name": "python3"
  },
  "language_info": {
   "codemirror_mode": {
    "name": "ipython",
    "version": 2
   },
   "file_extension": ".py",
   "mimetype": "text/x-python",
   "name": "python",
   "nbconvert_exporter": "python",
   "pygments_lexer": "ipython2",
   "version": "2.7.6"
  }
 },
 "nbformat": 4,
 "nbformat_minor": 0
}
