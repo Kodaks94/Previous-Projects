{
 "cells": [
  {
   "cell_type": "code",
   "execution_count": 1,
   "outputs": [],
   "source": [
    "import numpy as np\n",
    "import seaborn\n",
    "import matplotlib.pyplot as plt\n",
    "import pandas as pd\n",
    "max_iteration = 500 *4 * 10*5\n",
    "\n",
    "Trials_rewards = []\n",
    "Trials_steps = []\n",
    "maps = ['smallCorridor','LongCorridor','Tshaped','crossmap','complex_looped']\n",
    "\n",
    "opt_steps = [4,30,16,32,232]\n",
    "mapsave = [ 'Small Corridor maze','Long Corridor maze','T-shaped maze','Cross maze','Complex Looped maze']\n",
    "brains = ['PPO','A2C','DQN']\n",
    "#'VisitedMemoryTabular','ActionMemoryTabular','noMemoryTabular',\n",
    "#brains = [brains[0]]\n",
    "brainssave = ['PPO','A2C','DQN']\n",
    "#'State-action visited Memory', 'Action-state Memory','Tabular Q-learning with no memory',\n",
    "#brainssave = [brainssave[0]]\n",
    "#brains = [brains[1]]\n",
    "max_trial = 9\n"
   ],
   "metadata": {
    "collapsed": false,
    "pycharm": {
     "name": "#%%\n"
    }
   }
  },
  {
   "cell_type": "code",
   "execution_count": 2,
   "outputs": [
    {
     "name": "stdout",
     "output_type": "stream",
     "text": [
      "   brain             map  Trial  Iteration   Steps max_iteration\n",
      "0    PPO   smallCorridor      0          0     2.0             1\n",
      "0    PPO   smallCorridor      1          0     4.0             1\n",
      "0    PPO   smallCorridor      2          0    33.0             1\n",
      "0    PPO   smallCorridor      3          0    46.0             1\n",
      "0    PPO   smallCorridor      4          0   241.0             1\n",
      "..   ...             ...    ...        ...     ...           ...\n",
      "0    DQN  complex_looped      4          0  2000.0             1\n",
      "0    DQN  complex_looped      5          0  2000.0             1\n",
      "0    DQN  complex_looped      6          0  2000.0             1\n",
      "0    DQN  complex_looped      7          0  2000.0             1\n",
      "0    DQN  complex_looped      8          0  2000.0             1\n",
      "\n",
      "[135 rows x 6 columns]\n"
     ]
    }
   ],
   "source": [
    "df = pd.DataFrame(columns=['brain','map','Trial', 'Iteration','Steps','max_iteration'])\n",
    "\n",
    "for mapp in maps:\n",
    "    for brain in brains:\n",
    "        reward_history = []\n",
    "        step_history = []\n",
    "        total_size = 0\n",
    "        for trial in range(0,max_trial):\n",
    "            reward = np.load(\"runs/Trial_\"+str(trial)+\"_map_\"+str(mapp)+\"_Brain_Memory_\"+str(brain)+\"_step.npy\")\n",
    "            reward = [reward.sum()]\n",
    "            size = len(reward)\n",
    "            reward = np.reshape(reward, (size,1))\n",
    "            x_axis = np.reshape([i for i in range(size)],(size,1))\n",
    "            #step =  np.load(\"runs/\"+str(trial)+\"_map_\",str(mapp)+\"_Brain_\"+str(brain)+\"step.npy\")\n",
    "            #reward_history.append(reward)\n",
    "            #step_history.append(step)\n",
    "            trials = np.reshape([trial]*size,[size,1])\n",
    "            brain_type = np.reshape([brain]*size,[size,1])\n",
    "            mapp_type = np.reshape([mapp]*size,[size,1])\n",
    "            sizes = np.reshape([size]*size, [size,1])\n",
    "            #y_axis_step = np.reshape(np.concatenate(step,axis=0), (max_iteration,1))\n",
    "            add_reward =  np.concatenate([brain_type,mapp_type,trials,x_axis,reward,sizes],axis=1)\n",
    "            reward_history.append(add_reward)\n",
    "            total_size += size\n",
    "            df = pd.concat([df,pd.DataFrame(add_reward,columns=['brain','map','Trial', 'Iteration','Steps','max_iteration'])])\n",
    "df['Steps'] = df['Steps'].astype('float')\n",
    "#df['Step'] =  df['Step'].astype('float')\n",
    "df['Trial'] =  df['Trial'].astype('int')\n",
    "df['Iteration'] =  df['Iteration'].astype('int')\n",
    "df['brain'] =  df['brain'].astype('str')\n",
    "df['map'] =  df['map'].astype('str')\n",
    "opts =[opt_steps[maps.index(mapp)] for mapp in maps ]\n",
    "opts = np.sum(opts)\n",
    "\n",
    "print(df)\n"
   ],
   "metadata": {
    "collapsed": false,
    "pycharm": {
     "name": "#%%\n"
    }
   }
  },
  {
   "cell_type": "code",
   "execution_count": 3,
   "outputs": [],
   "source": [
    "title = \"\"\n",
    "for mapp in maps:\n",
    "    opts = opt_steps[maps.index(mapp)]\n",
    "    current_map = mapp\n",
    "    if current_map == \"crossmap\":\n",
    "        title = \"Cross maze\"\n",
    "    elif current_map == \"LongCorridor\":\n",
    "        title = \"Long Corridor maze\"\n",
    "    elif current_map == \"smallCorridor\":\n",
    "        title = \"Small Corridor maze\"\n",
    "    elif current_map == \"Tshaped\":\n",
    "        title = \"T-shaped maze\"\n",
    "    elif current_map == \"complex_looped\":\n",
    "        title = \"Complex Looped maze\"\n",
    "    title += \" with optimal steps of \"+ str(opts)\n",
    "    tempdf = df\n",
    "    current_data = tempdf.loc[tempdf['map'] == mapp]\n"
   ],
   "metadata": {
    "collapsed": false,
    "pycharm": {
     "name": "#%%\n"
    }
   }
  },
  {
   "cell_type": "code",
   "execution_count": 4,
   "outputs": [
    {
     "name": "stdout",
     "output_type": "stream",
     "text": [
      "PPO smallCorridor 4 77.222 $\\pm$ 34.617\n",
      "A2C smallCorridor 4 361.333 $\\pm$ 72.948\n",
      "DQN smallCorridor 4 445.889 $\\pm$ 55.111\n",
      "PPO LongCorridor 30 215.0 $\\pm$ 67.333\n",
      "A2C LongCorridor 30 786.444 $\\pm$ 84.445\n",
      "DQN LongCorridor 30 1000.0 $\\pm$ 0.0\n",
      "PPO Tshaped 16 47.667 $\\pm$ 8.513\n",
      "A2C Tshaped 16 230.222 $\\pm$ 105.021\n",
      "DQN Tshaped 16 1000.0 $\\pm$ 0.0\n",
      "PPO crossmap 32 652.222 $\\pm$ 162.912\n",
      "A2C crossmap 32 1452.778 $\\pm$ 49.977\n",
      "DQN crossmap 32 1557.444 $\\pm$ 55.32\n",
      "PPO complex_looped 232 2000.0 $\\pm$ 0.0\n",
      "A2C complex_looped 232 1950.556 $\\pm$ 49.444\n",
      "DQN complex_looped 232 2000.0 $\\pm$ 0.0\n"
     ]
    }
   ],
   "source": [
    "\n",
    "for mapp in maps:\n",
    "    for brain in brains:\n",
    "        query   = \"brain== '\"+brain+\"' and map=='\"+mapp+\"'\"\n",
    "        df1a = df.query(query)\n",
    "        print(brain,mapp,end=\" \")\n",
    "        print(opt_steps[maps.index(mapp)],str(round(df1a[\"Steps\"].values.mean(),3))+\" $\\\\pm$\",round(df1a[\"Steps\"].sem(),3))\n"
   ],
   "metadata": {
    "collapsed": false,
    "pycharm": {
     "name": "#%%\n"
    }
   }
  },
  {
   "cell_type": "code",
   "execution_count": 15,
   "outputs": [
    {
     "name": "stdout",
     "output_type": "stream",
     "text": [
      "20001\n",
      "[-1 -3 -1 -3]\n"
     ]
    }
   ],
   "source": [
    " import numpy as np\n",
    "mapname = \"smallCorridor\"\n",
    "#A2C = np.load(\"runs/Trial_0_map_\"+mapname+\"_Brain_A2C_step.npy\")\n",
    "PPO = np.load(\"runs/Trial_0_map_\"+mapname+\"_Brain_PPO_step.npy\")\n",
    "#DQN = np.load(\"runs/Trial_0_map_\"+mapname+\"_Brain_DQN_step.npy\")\n",
    "\n",
    "max_iteration = 500 *4 * 10+1\n",
    "print(max_iteration)\n",
    "\n",
    "#print(A2C[-4:])\n",
    "print(PPO[-4:])\n",
    "#print(DQN[-4:])\n",
    "#each takes 1 min 4 maps, 3 brains, trial 10"
   ],
   "metadata": {
    "collapsed": false,
    "pycharm": {
     "name": "#%%\n"
    }
   }
  },
  {
   "cell_type": "code",
   "execution_count": 43,
   "outputs": [
    {
     "name": "stderr",
     "output_type": "stream",
     "text": [
      "<>:1: SyntaxWarning: 'tuple' object is not callable; perhaps you missed a comma?\n",
      "<>:1: SyntaxWarning: 'tuple' object is not callable; perhaps you missed a comma?\n",
      "C:\\Users\\Mahra\\AppData\\Local\\Temp/ipykernel_31400/2366437108.py:1: SyntaxWarning: 'tuple' object is not callable; perhaps you missed a comma?\n",
      "  (13398,) (4743,) (7201,)\n"
     ]
    },
    {
     "ename": "TypeError",
     "evalue": "'tuple' object is not callable",
     "output_type": "error",
     "traceback": [
      "\u001B[1;31m---------------------------------------------------------------------------\u001B[0m",
      "\u001B[1;31mTypeError\u001B[0m                                 Traceback (most recent call last)",
      "\u001B[1;32m~\\AppData\\Local\\Temp/ipykernel_31400/2366437108.py\u001B[0m in \u001B[0;36m<module>\u001B[1;34m\u001B[0m\n\u001B[1;32m----> 1\u001B[1;33m \u001B[1;33m(\u001B[0m\u001B[1;36m13398\u001B[0m\u001B[1;33m,\u001B[0m\u001B[1;33m)\u001B[0m \u001B[1;33m(\u001B[0m\u001B[1;36m4743\u001B[0m\u001B[1;33m,\u001B[0m\u001B[1;33m)\u001B[0m \u001B[1;33m(\u001B[0m\u001B[1;36m7201\u001B[0m\u001B[1;33m,\u001B[0m\u001B[1;33m)\u001B[0m\u001B[1;33m\u001B[0m\u001B[1;33m\u001B[0m\u001B[0m\n\u001B[0m",
      "\u001B[1;31mTypeError\u001B[0m: 'tuple' object is not callable"
     ]
    }
   ],
   "source": [],
   "metadata": {
    "collapsed": false,
    "pycharm": {
     "name": "#%%\n"
    }
   }
  },
  {
   "cell_type": "code",
   "execution_count": 50,
   "outputs": [
    {
     "name": "stdout",
     "output_type": "stream",
     "text": [
      "0\n"
     ]
    }
   ],
   "source": [
    "print(4%2)"
   ],
   "metadata": {
    "collapsed": false,
    "pycharm": {
     "name": "#%%\n"
    }
   }
  },
  {
   "cell_type": "code",
   "execution_count": 16,
   "outputs": [],
   "source": [
    "import numpy as np\n",
    "import seaborn\n",
    "import matplotlib.pyplot as plt\n",
    "import pandas as pd\n",
    "max_iteration = 500 *4 * 10*5\n",
    "\n",
    "Trials_rewards = []\n",
    "Trials_steps = []\n",
    "maps = ['complex_looped']\n",
    "\n",
    "opt_steps = [4,30,16,32,232]\n",
    "mapsave = ['Complex Looped maze']\n",
    "brains = [\"VisitedMemoryTabular\"]\n",
    "#'VisitedMemoryTabular','ActionMemoryTabular','noMemoryTabular',\n",
    "#brains = [brains[0]]\n",
    "brainssave = ['VisitedMemoryTabular']\n",
    "#'State-action visited Memory', 'Action-state Memory','Tabular Q-learning with no memory',\n",
    "#brainssave = [brainssave[0]]\n",
    "#brains = [brains[1]]\n",
    "max_trial = 9\n"
   ],
   "metadata": {
    "collapsed": false,
    "pycharm": {
     "name": "#%%\n"
    }
   }
  },
  {
   "cell_type": "code",
   "execution_count": 26,
   "outputs": [
    {
     "name": "stdout",
     "output_type": "stream",
     "text": [
      "1\n",
      "1\n",
      "1\n",
      "1\n",
      "1\n",
      "1\n",
      "1\n",
      "1\n",
      "1\n",
      "                  brain             map  Trial  Iteration   Steps  \\\n",
      "0  VisitedMemoryTabular  complex_looped      0          0   190.0   \n",
      "0  VisitedMemoryTabular  complex_looped      1          0  1051.0   \n",
      "0  VisitedMemoryTabular  complex_looped      2          0  1051.0   \n",
      "0  VisitedMemoryTabular  complex_looped      3          0   196.0   \n",
      "0  VisitedMemoryTabular  complex_looped      4          0   192.0   \n",
      "0  VisitedMemoryTabular  complex_looped      5          0   200.0   \n",
      "0  VisitedMemoryTabular  complex_looped      6          0   250.0   \n",
      "0  VisitedMemoryTabular  complex_looped      7          0   196.0   \n",
      "0  VisitedMemoryTabular  complex_looped      8          0   192.0   \n",
      "\n",
      "  max_iteration  \n",
      "0             1  \n",
      "0             1  \n",
      "0             1  \n",
      "0             1  \n",
      "0             1  \n",
      "0             1  \n",
      "0             1  \n",
      "0             1  \n",
      "0             1  \n"
     ]
    }
   ],
   "source": [
    "df = pd.DataFrame(columns=['brain','map','Trial', 'Iteration','Steps','max_iteration'])\n",
    "\n",
    "for mapp in maps:\n",
    "    for brain in brains:\n",
    "        reward_history = []\n",
    "        step_history = []\n",
    "        total_size = 0\n",
    "        for trial in range(0,max_trial):\n",
    "            #0_map_complex_looped_Brain_VisitedMemoryTabular_reward.npy\n",
    "            reward = np.load(\"runs_/\"+str(trial)+\"_map_\"+str(mapp)+\"_Brain_\"+str(brain)+\"_step.npy\")\n",
    "            reward = [reward[-1]]\n",
    "            size = len(reward)\n",
    "            print(size)\n",
    "            reward = np.reshape(reward, (size,1))\n",
    "            x_axis = np.reshape([i for i in range(size)],(size,1))\n",
    "            #step =  np.load(\"runs/\"+str(trial)+\"_map_\",str(mapp)+\"_Brain_\"+str(brain)+\"step.npy\")\n",
    "            #reward_history.append(reward)\n",
    "            #step_history.append(step)\n",
    "            trials = np.reshape([trial]*size,[size,1])\n",
    "            brain_type = np.reshape([brain]*size,[size,1])\n",
    "            mapp_type = np.reshape([mapp]*size,[size,1])\n",
    "            sizes = np.reshape([size]*size, [size,1])\n",
    "            #y_axis_step = np.reshape(np.concatenate(step,axis=0), (max_iteration,1))\n",
    "            add_reward =  np.concatenate([brain_type,mapp_type,trials,x_axis,reward,sizes],axis=1)\n",
    "            reward_history.append(add_reward)\n",
    "            total_size += size\n",
    "            df = pd.concat([df,pd.DataFrame(add_reward,columns=['brain','map','Trial', 'Iteration','Steps','max_iteration'])])\n",
    "df['Steps'] = df['Steps'].astype('float')\n",
    "#df['Step'] =  df['Step'].astype('float')\n",
    "df['Trial'] =  df['Trial'].astype('int')\n",
    "df['Iteration'] =  df['Iteration'].astype('int')\n",
    "df['brain'] =  df['brain'].astype('str')\n",
    "df['map'] =  df['map'].astype('str')\n",
    "opts =[opt_steps[maps.index(mapp)] for mapp in maps ]\n",
    "opts = np.sum(opts)\n",
    "\n",
    "print(df)"
   ],
   "metadata": {
    "collapsed": false,
    "pycharm": {
     "name": "#%%\n"
    }
   }
  },
  {
   "cell_type": "code",
   "execution_count": 27,
   "outputs": [],
   "source": [
    "title = \"\"\n",
    "for mapp in maps:\n",
    "    opts = opt_steps[maps.index(mapp)]\n",
    "    current_map = mapp\n",
    "    if current_map == \"crossmap\":\n",
    "        title = \"Cross maze\"\n",
    "    elif current_map == \"LongCorridor\":\n",
    "        title = \"Long Corridor maze\"\n",
    "    elif current_map == \"smallCorridor\":\n",
    "        title = \"Small Corridor maze\"\n",
    "    elif current_map == \"Tshaped\":\n",
    "        title = \"T-shaped maze\"\n",
    "    elif current_map == \"complex_looped\":\n",
    "        title = \"Complex Looped maze\"\n",
    "    title += \" with optimal steps of \"+ str(opts)\n",
    "    tempdf = df\n",
    "    current_data = tempdf.loc[tempdf['map'] == mapp]"
   ],
   "metadata": {
    "collapsed": false,
    "pycharm": {
     "name": "#%%\n"
    }
   }
  },
  {
   "cell_type": "code",
   "execution_count": 28,
   "outputs": [
    {
     "name": "stdout",
     "output_type": "stream",
     "text": [
      "VisitedMemoryTabular complex_looped 4 390.889 $\\pm$ 124.901\n"
     ]
    }
   ],
   "source": [
    "\n",
    "for mapp in maps:\n",
    "    for brain in brains:\n",
    "        query   = \"brain== '\"+brain+\"' and map=='\"+mapp+\"'\"\n",
    "        df1a = df.query(query)\n",
    "        print(brain,mapp,end=\" \")\n",
    "        print(opt_steps[maps.index(mapp)],str(round(df1a[\"Steps\"].values.mean(),3))+\" $\\\\pm$\",round(df1a[\"Steps\"].sem(),3))"
   ],
   "metadata": {
    "collapsed": false,
    "pycharm": {
     "name": "#%%\n"
    }
   }
  },
  {
   "cell_type": "code",
   "execution_count": null,
   "outputs": [],
   "source": [],
   "metadata": {
    "collapsed": false,
    "pycharm": {
     "name": "#%%\n"
    }
   }
  }
 ],
 "metadata": {
  "kernelspec": {
   "display_name": "Python 3",
   "language": "python",
   "name": "python3"
  },
  "language_info": {
   "codemirror_mode": {
    "name": "ipython",
    "version": 2
   },
   "file_extension": ".py",
   "mimetype": "text/x-python",
   "name": "python",
   "nbconvert_exporter": "python",
   "pygments_lexer": "ipython2",
   "version": "2.7.6"
  },
  "pycharm": {
   "stem_cell": {
    "cell_type": "raw",
    "source": [
     "\n",
     "\n"
    ],
    "metadata": {
     "collapsed": false
    }
   }
  }
 },
 "nbformat": 4,
 "nbformat_minor": 0
}